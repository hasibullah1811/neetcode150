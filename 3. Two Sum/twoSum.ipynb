{
 "cells": [
  {
   "cell_type": "markdown",
   "id": "4d147faf-35f9-4367-bbd0-41f98aa72c08",
   "metadata": {},
   "source": [
    "# Given an array of integers nums and an integer target, return the indices i and j such that nums[i] + nums[j] == target and i != j.\n",
    "\n",
    "You may assume that every input has exactly one pair of indices i and j that satisfy the condition.\n",
    "\n",
    "Return the answer with the smaller index first."
   ]
  },
  {
   "cell_type": "code",
   "execution_count": 1,
   "id": "4db05b1d-17c0-41d1-9717-35a715da5bf0",
   "metadata": {},
   "outputs": [],
   "source": [
    "def twoSum(nums , target):\n",
    "    prevElement = {}\n",
    "\n",
    "    for idx, num in enumerate(nums):\n",
    "        diff = target - num\n",
    "        if diff in prevElement:\n",
    "            print(prevElement)\n",
    "            return [prevElement[diff], idx]\n",
    "        prevElement[num] = idx"
   ]
  },
  {
   "cell_type": "code",
   "execution_count": 2,
   "id": "799948b0-f7f4-4cca-b83f-9567c1c22ce0",
   "metadata": {},
   "outputs": [
    {
     "name": "stdout",
     "output_type": "stream",
     "text": [
      "{1: 0, 3: 1}\n"
     ]
    },
    {
     "data": {
      "text/plain": [
       "[1, 2]"
      ]
     },
     "execution_count": 2,
     "metadata": {},
     "output_type": "execute_result"
    }
   ],
   "source": [
    "twoSum(nums= [1,3,7,5], target=10)"
   ]
  },
  {
   "cell_type": "code",
   "execution_count": null,
   "id": "fe24a4d9-bf44-4787-98bb-1bdb074b725f",
   "metadata": {},
   "outputs": [],
   "source": []
  },
  {
   "cell_type": "code",
   "execution_count": null,
   "id": "a86ef16a-795f-4152-9f7c-4c8ba74cf468",
   "metadata": {},
   "outputs": [],
   "source": []
  }
 ],
 "metadata": {
  "kernelspec": {
   "display_name": "Python 3 (ipykernel)",
   "language": "python",
   "name": "python3"
  },
  "language_info": {
   "codemirror_mode": {
    "name": "ipython",
    "version": 3
   },
   "file_extension": ".py",
   "mimetype": "text/x-python",
   "name": "python",
   "nbconvert_exporter": "python",
   "pygments_lexer": "ipython3",
   "version": "3.11.4"
  }
 },
 "nbformat": 4,
 "nbformat_minor": 5
}
