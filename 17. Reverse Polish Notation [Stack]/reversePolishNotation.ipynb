{
 "cells": [
  {
   "cell_type": "markdown",
   "id": "f5e04b43-f442-41da-adbb-5449a194a5eb",
   "metadata": {},
   "source": [
    "## Evaluate Reverse Polish Notation\n",
    "You are given an array of strings tokens that represents a valid arithmetic expression in Reverse Polish Notation.\n",
    "\n",
    "Return the integer that represents the evaluation of the expression.\n",
    "\n",
    "The operands may be integers or the results of other operations.\n",
    "The operators include '+', '-', '*', and '/'.\n",
    "Assume that division between integers always truncates toward zero.\n",
    "Example 1:\n",
    "\n",
    "Input: tokens = [\"1\",\"2\",\"+\",\"3\",\"*\",\"4\",\"-\"]\n",
    "\n",
    "Output: 5\n",
    "\n",
    "Explanation: ((1 + 2) * 3) - 4 = 5\n"
   ]
  },
  {
   "cell_type": "code",
   "execution_count": null,
   "id": "3153a04a-fe02-457c-94d3-ca2e152080cf",
   "metadata": {},
   "outputs": [],
   "source": [
    "def reversePolishNotation(tokens : list()):\n",
    "\n",
    "    stack = []\n",
    "    operators = [\"+\", \"*\", \"/\", \"-\"]\n",
    "    for token in tokens:\n",
    "        if token in operators:\n",
    "            \n",
    "        else:\n",
    "            stack.append(token)\n",
    "    \n",
    "            \n",
    "        "
   ]
  }
 ],
 "metadata": {
  "kernelspec": {
   "display_name": "Python 3 (ipykernel)",
   "language": "python",
   "name": "python3"
  },
  "language_info": {
   "codemirror_mode": {
    "name": "ipython",
    "version": 3
   },
   "file_extension": ".py",
   "mimetype": "text/x-python",
   "name": "python",
   "nbconvert_exporter": "python",
   "pygments_lexer": "ipython3",
   "version": "3.11.4"
  }
 },
 "nbformat": 4,
 "nbformat_minor": 5
}
