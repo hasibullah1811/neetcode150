{
 "cells": [
  {
   "cell_type": "markdown",
   "id": "f5e04b43-f442-41da-adbb-5449a194a5eb",
   "metadata": {},
   "source": [
    "## Evaluate Reverse Polish Notation\n",
    "You are given an array of strings tokens that represents a valid arithmetic expression in Reverse Polish Notation.\n",
    "\n",
    "Return the integer that represents the evaluation of the expression.\n",
    "\n",
    "The operands may be integers or the results of other operations.\n",
    "The operators include '+', '-', '*', and '/'.\n",
    "Assume that division between integers always truncates toward zero.\n",
    "Example 1:\n",
    "\n",
    "Input: tokens = [\"1\",\"2\",\"+\",\"3\",\"*\",\"4\",\"-\"]\n",
    "\n",
    "Output: 5\n",
    "\n",
    "Explanation: ((1 + 2) * 3) - 4 = 5\n"
   ]
  },
  {
   "cell_type": "code",
   "execution_count": 7,
   "id": "3153a04a-fe02-457c-94d3-ca2e152080cf",
   "metadata": {},
   "outputs": [],
   "source": [
    "def reversePolishNotation(tokens : list()):\n",
    "        \n",
    "        import operator\n",
    "        operatorMap = {\n",
    "            \"+\": operator.add,\n",
    "            \"-\": operator.sub,\n",
    "            \"/\": operator.floordiv,\n",
    "            \"*\": operator.mul\n",
    "        }\n",
    "\n",
    "        tokenStack = [] * len(tokens) \n",
    "\n",
    "        for token in tokens:\n",
    "            if token in operatorMap:\n",
    "                opFunc = operatorMap[token]\n",
    "                if token == \"+\":\n",
    "                    tokenStack.append(opFunc(tokenStack.pop(), tokenStack.pop()))\n",
    "                elif token == \"-\":\n",
    "                    a, b = tokenStack.pop(), tokenStack.pop()\n",
    "                    tokenStack.append(b, a)\n",
    "                elif token == \"*\":\n",
    "                    tokenStack.append(opFunc(tokenStack.pop(), tokenStack.pop()))\n",
    "                elif token == \"/\":\n",
    "                    a, b = tokenStack.pop(), tokenStack.pop()\n",
    "                    tokenStack.append(int(float(b) / a))\n",
    "\n",
    "            else:\n",
    "                tokenStack.append(int(token))\n",
    "        return tokenStack[0]\n",
    "                \n",
    "\n",
    "        "
   ]
  },
  {
   "cell_type": "code",
   "execution_count": 8,
   "id": "5661989e-66bb-49d6-a432-670230d40c0c",
   "metadata": {},
   "outputs": [
    {
     "data": {
      "text/plain": [
       "9"
      ]
     },
     "execution_count": 8,
     "metadata": {},
     "output_type": "execute_result"
    }
   ],
   "source": [
    "reversePolishNotation([\"2\",\"1\",\"+\",\"3\",\"*\"])"
   ]
  },
  {
   "cell_type": "code",
   "execution_count": null,
   "id": "3fa06b2d-6958-4020-acee-4ce36317e7e8",
   "metadata": {},
   "outputs": [],
   "source": []
  }
 ],
 "metadata": {
  "kernelspec": {
   "display_name": "Python 3 (ipykernel)",
   "language": "python",
   "name": "python3"
  },
  "language_info": {
   "codemirror_mode": {
    "name": "ipython",
    "version": 3
   },
   "file_extension": ".py",
   "mimetype": "text/x-python",
   "name": "python",
   "nbconvert_exporter": "python",
   "pygments_lexer": "ipython3",
   "version": "3.11.4"
  }
 },
 "nbformat": 4,
 "nbformat_minor": 5
}
