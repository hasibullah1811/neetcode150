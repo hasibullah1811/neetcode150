{
 "cells": [
  {
   "cell_type": "markdown",
   "id": "72c74916-5720-4834-99d8-8ab199223447",
   "metadata": {},
   "source": [
    "# Valid Parentheses\n",
    "You are given a string s consisting of the following characters: '(', ')', '{', '}', '[' and ']'.\n",
    "\n",
    "The input string s is valid if and only if:\n",
    "\n",
    "Every open bracket is closed by the same type of close bracket.\n",
    "Open brackets are closed in the correct order.\n",
    "Every close bracket has a corresponding open bracket of the same type.\n",
    "Return true if s is a valid string, and false otherwise.\n",
    "\n"
   ]
  },
  {
   "cell_type": "code",
   "execution_count": 10,
   "id": "b23af0c0-ce36-4748-94aa-e062b70f0000",
   "metadata": {},
   "outputs": [],
   "source": [
    "def validParenthesis(s:str):\n",
    "    parenthesisStack = [] \n",
    "    bracketPairs = {\n",
    "        ')' : '(',\n",
    "        '}' : '{',\n",
    "        ']' : '['\n",
    "    }\n",
    "\n",
    "    for c in s:\n",
    "        if c in bracketPairs:\n",
    "            if parenthesisStack and parenthesisStack[-1] == bracketPairs[c]:\n",
    "                parenthesisStack.pop()\n",
    "            else:\n",
    "                return False\n",
    "        else:\n",
    "            parenthesisStack.append(c)\n",
    "    return True if not parenthesisStack else False"
   ]
  },
  {
   "cell_type": "code",
   "execution_count": 11,
   "id": "a21a2477-03d0-4e03-868f-92c93b96a989",
   "metadata": {},
   "outputs": [
    {
     "data": {
      "text/plain": [
       "False"
      ]
     },
     "execution_count": 11,
     "metadata": {},
     "output_type": "execute_result"
    }
   ],
   "source": [
    "validParenthesis(\"([{})}\")"
   ]
  },
  {
   "cell_type": "code",
   "execution_count": null,
   "id": "bb16f157-18d9-4854-b833-37ead59017d4",
   "metadata": {},
   "outputs": [],
   "source": []
  }
 ],
 "metadata": {
  "kernelspec": {
   "display_name": "Python 3 (ipykernel)",
   "language": "python",
   "name": "python3"
  },
  "language_info": {
   "codemirror_mode": {
    "name": "ipython",
    "version": 3
   },
   "file_extension": ".py",
   "mimetype": "text/x-python",
   "name": "python",
   "nbconvert_exporter": "python",
   "pygments_lexer": "ipython3",
   "version": "3.11.4"
  }
 },
 "nbformat": 4,
 "nbformat_minor": 5
}
