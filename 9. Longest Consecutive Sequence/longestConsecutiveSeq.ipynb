{
 "cells": [
  {
   "cell_type": "markdown",
   "id": "485b119c-ceb0-4ea4-9166-3fa1f3786fe0",
   "metadata": {},
   "source": [
    "# Given an array of integers nums, return the length of the longest consecutive sequence of elements that can be formed.\n",
    "\n",
    "A consecutive sequence is a sequence of elements in which each element is exactly 1 greater than the previous element. The elements do not have to be consecutive in the original array.\n",
    "\n",
    "You must write an algorithm that runs in O(n) time."
   ]
  },
  {
   "cell_type": "code",
   "execution_count": 29,
   "id": "e9cb75a8-10a8-4514-84f4-490bf8c5bf36",
   "metadata": {},
   "outputs": [],
   "source": [
    "def longestConsecutiveSeq(nums):\n",
    "\n",
    "    output = 0\n",
    "    sortedNum = set()\n",
    "    count = 1\n",
    "    highestCount = 0\n",
    "\n",
    "    for i in range(len(nums)):\n",
    "        if nums[i] not in sortedNum:\n",
    "            sortedNum.add(nums[i])\n",
    "\n",
    "    sortedList = list(sortedNum)\n",
    "    print(sortedList)\n",
    "    \n",
    "    for i in range(len(sortedList)):\n",
    "        if i < len(sortedList) - 1:\n",
    "            temp = sortedList[i+1] - sortedList[i]\n",
    "            if temp == 1:\n",
    "                count += 1\n",
    "                # print(count)\n",
    "\n",
    "    return count\n",
    "            "
   ]
  },
  {
   "cell_type": "code",
   "execution_count": 31,
   "id": "59827701-82b1-4e8c-9dc4-dd2016aa0cb3",
   "metadata": {},
   "outputs": [
    {
     "name": "stdout",
     "output_type": "stream",
     "text": [
      "[1, 2, 3, 100, 4, 200]\n"
     ]
    },
    {
     "data": {
      "text/plain": [
       "3"
      ]
     },
     "execution_count": 31,
     "metadata": {},
     "output_type": "execute_result"
    }
   ],
   "source": [
    "longestConsecutiveSeq([100,4,200,1,3,2])"
   ]
  },
  {
   "cell_type": "code",
   "execution_count": 56,
   "id": "cdead058-6eb5-43f4-aa1c-617b9bcddaf5",
   "metadata": {},
   "outputs": [],
   "source": [
    "def longestConsecutiveSeq2(nums):\n",
    "    numSet = set(nums)\n",
    "    longestSeq = 0\n",
    "    for n in numSet:\n",
    "        if (n-1) in numSet:\n",
    "            length = 1\n",
    "            while (n + length) in numSet:\n",
    "                length += 1\n",
    "            longestSeq = max(length, longestSeq)\n",
    "    return longestSeq\n",
    "\n",
    "            "
   ]
  },
  {
   "cell_type": "code",
   "execution_count": 57,
   "id": "b0379d3d-f1a2-4a59-a028-0279c995ba13",
   "metadata": {},
   "outputs": [
    {
     "data": {
      "text/plain": [
       "3"
      ]
     },
     "execution_count": 57,
     "metadata": {},
     "output_type": "execute_result"
    }
   ],
   "source": [
    "longestConsecutiveSeq2([100,4,200,1,3,2])"
   ]
  },
  {
   "cell_type": "code",
   "execution_count": null,
   "id": "6a5325ec-0b34-408a-ba97-9af6d05e461a",
   "metadata": {},
   "outputs": [],
   "source": []
  }
 ],
 "metadata": {
  "kernelspec": {
   "display_name": "Python 3 (ipykernel)",
   "language": "python",
   "name": "python3"
  },
  "language_info": {
   "codemirror_mode": {
    "name": "ipython",
    "version": 3
   },
   "file_extension": ".py",
   "mimetype": "text/x-python",
   "name": "python",
   "nbconvert_exporter": "python",
   "pygments_lexer": "ipython3",
   "version": "3.11.4"
  }
 },
 "nbformat": 4,
 "nbformat_minor": 5
}
