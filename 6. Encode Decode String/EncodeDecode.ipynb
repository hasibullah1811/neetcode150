{
 "cells": [
  {
   "cell_type": "markdown",
   "id": "18ef9c99-9d06-420c-8792-a6cf18ae8379",
   "metadata": {},
   "source": [
    "# Design an algorithm to encode a list of strings to a single string. The encoded string is then decoded back to the original list of strings.\n",
    "\n",
    "Please implement encode and decode"
   ]
  },
  {
   "cell_type": "code",
   "execution_count": 4,
   "id": "e7823e01-0eaa-40d4-a0d1-08ca0a744c1f",
   "metadata": {},
   "outputs": [],
   "source": [
    "def encode(strList):\n",
    "    res = \"\"\n",
    "    for s in strList:\n",
    "        res += str(len(s)) + \"#\" + s\n",
    "    return res"
   ]
  },
  {
   "cell_type": "code",
   "execution_count": 8,
   "id": "5f81f8bf-d717-4309-b955-832045c86388",
   "metadata": {},
   "outputs": [],
   "source": [
    "def decode(s):\n",
    "    res = []\n",
    "    i = 0\n",
    "    while i < len(s):\n",
    "        j = i\n",
    "        while s[j] != '#':\n",
    "            j += 1\n",
    "        length = int(s[i:j])\n",
    "        i = j + 1\n",
    "        j = i + length\n",
    "        res.append(s[i:j])\n",
    "        i = j\n",
    "            \n",
    "    return res"
   ]
  },
  {
   "cell_type": "code",
   "execution_count": 9,
   "id": "f4bc6bc2-8e8e-4c4e-82f8-2738084be90c",
   "metadata": {},
   "outputs": [
    {
     "data": {
      "text/plain": [
       "'4#neet4#code'"
      ]
     },
     "execution_count": 9,
     "metadata": {},
     "output_type": "execute_result"
    }
   ],
   "source": [
    "encode(['neet', 'code'])"
   ]
  },
  {
   "cell_type": "code",
   "execution_count": 10,
   "id": "f90c59e8-fc23-4bd0-a9ba-f373e23dc5aa",
   "metadata": {},
   "outputs": [
    {
     "data": {
      "text/plain": [
       "['neet', 'code']"
      ]
     },
     "execution_count": 10,
     "metadata": {},
     "output_type": "execute_result"
    }
   ],
   "source": [
    "decode('4#neet4#code')"
   ]
  },
  {
   "cell_type": "code",
   "execution_count": null,
   "id": "54e49d7d-bd7f-4b73-8776-56389f65f35b",
   "metadata": {},
   "outputs": [],
   "source": []
  }
 ],
 "metadata": {
  "kernelspec": {
   "display_name": "Python 3 (ipykernel)",
   "language": "python",
   "name": "python3"
  },
  "language_info": {
   "codemirror_mode": {
    "name": "ipython",
    "version": 3
   },
   "file_extension": ".py",
   "mimetype": "text/x-python",
   "name": "python",
   "nbconvert_exporter": "python",
   "pygments_lexer": "ipython3",
   "version": "3.11.4"
  }
 },
 "nbformat": 4,
 "nbformat_minor": 5
}
