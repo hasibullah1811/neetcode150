{
 "cells": [
  {
   "cell_type": "markdown",
   "id": "4ce4e0e4-a65f-486a-90a2-bad7e5da019c",
   "metadata": {},
   "source": [
    "# Given an integer array nums and an integer k, return the k most frequent elements within the array.\n",
    "\n",
    "The test cases are generated such that the answer is always unique.\n",
    "\n",
    "You may return the output in any order.\n",
    "\n",
    "Memory Efficient\n"
   ]
  },
  {
   "cell_type": "code",
   "execution_count": 68,
   "id": "fb2a8286-bdde-455e-906c-e9c754c9f69b",
   "metadata": {},
   "outputs": [],
   "source": [
    "def topKFrequentElements(nums, k):\n",
    "\n",
    "    hashMap = {}\n",
    "    hashSet = set()\n",
    "    count = 0\n",
    "\n",
    "    for n in nums:\n",
    "        if n in hashMap:\n",
    "            # print(hashMap[n])\n",
    "            hashMap[n] = hashMap[n] + 1\n",
    "        else: hashMap[n] = 1\n",
    "\n",
    "    hashVals = list(hashMap.values())\n",
    "    hashVals.sort(reverse=True)\n",
    "    for n in hashVals:\n",
    "        count += 1\n",
    "        if count <= k:\n",
    "            for key, val in hashMap.items():\n",
    "                if n == val:\n",
    "                    hashSet.add(key)\n",
    "    return list(hashSet)\n",
    "                \n",
    "\n"
   ]
  },
  {
   "cell_type": "code",
   "execution_count": 74,
   "id": "ada49adb-97f5-4d41-b506-976498efa107",
   "metadata": {},
   "outputs": [
    {
     "data": {
      "text/plain": [
       "[1, 2, 3, 4]"
      ]
     },
     "execution_count": 74,
     "metadata": {},
     "output_type": "execute_result"
    }
   ],
   "source": [
    "topKFrequentElements([1, 2, 2, 2, 3, 4,4, 3, ], 10)"
   ]
  },
  {
   "cell_type": "markdown",
   "id": "a442c89d-9c59-4d9d-a013-4673650464d5",
   "metadata": {},
   "source": [
    "# NOW FOR THE OPTIMAL SOLUTION (BUCKET SORT)\n",
    "More Runtime Efficient"
   ]
  },
  {
   "cell_type": "code",
   "execution_count": 106,
   "id": "1fa68268-ffde-42aa-a5c5-49c43e8277df",
   "metadata": {},
   "outputs": [],
   "source": [
    "def topKFrequentElements(nums, k):\n",
    "    count = {}\n",
    "    freq = [[] for i in range(len(nums) + 1)]\n",
    "    for n in nums:\n",
    "        if n in count:\n",
    "            count[n] += 1\n",
    "        else: count[n] = 1\n",
    "    for num, cnt in count.items():\n",
    "        freq[cnt].append(num)\n",
    "\n",
    "    result = []\n",
    "    for i in range(len(freq) - 1, 0, -1):\n",
    "        for num in freq[i]:\n",
    "            result.append(num)\n",
    "            if len(result) == k:\n",
    "                return result\n",
    "    "
   ]
  },
  {
   "cell_type": "code",
   "execution_count": 109,
   "id": "cba83d9e-e909-4ccd-bb46-3b6921cb432c",
   "metadata": {},
   "outputs": [
    {
     "data": {
      "text/plain": [
       "[2, 4]"
      ]
     },
     "execution_count": 109,
     "metadata": {},
     "output_type": "execute_result"
    }
   ],
   "source": [
    "topKFrequentElements([1, 2, 2, 2, 3, 4,4,4, 3, ], 2)"
   ]
  },
  {
   "cell_type": "code",
   "execution_count": null,
   "id": "acd3c772-90fe-4044-af54-e12b9b71b58a",
   "metadata": {},
   "outputs": [],
   "source": []
  }
 ],
 "metadata": {
  "kernelspec": {
   "display_name": "Python 3 (ipykernel)",
   "language": "python",
   "name": "python3"
  },
  "language_info": {
   "codemirror_mode": {
    "name": "ipython",
    "version": 3
   },
   "file_extension": ".py",
   "mimetype": "text/x-python",
   "name": "python",
   "nbconvert_exporter": "python",
   "pygments_lexer": "ipython3",
   "version": "3.11.4"
  }
 },
 "nbformat": 4,
 "nbformat_minor": 5
}
