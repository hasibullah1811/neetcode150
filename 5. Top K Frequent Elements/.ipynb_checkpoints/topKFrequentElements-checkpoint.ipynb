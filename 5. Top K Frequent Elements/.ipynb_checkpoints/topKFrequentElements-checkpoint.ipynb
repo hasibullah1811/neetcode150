{
 "cells": [
  {
   "cell_type": "markdown",
   "id": "4ce4e0e4-a65f-486a-90a2-bad7e5da019c",
   "metadata": {},
   "source": [
    "# Given an integer array nums and an integer k, return the k most frequent elements within the array.\n",
    "\n",
    "The test cases are generated such that the answer is always unique.\n",
    "\n",
    "You may return the output in any order.\n"
   ]
  },
  {
   "cell_type": "code",
   "execution_count": 68,
   "id": "fb2a8286-bdde-455e-906c-e9c754c9f69b",
   "metadata": {},
   "outputs": [],
   "source": [
    "def topKFrequentElements(nums, k):\n",
    "\n",
    "    hashMap = {}\n",
    "    hashSet = set()\n",
    "    count = 0\n",
    "\n",
    "    for n in nums:\n",
    "        if n in hashMap:\n",
    "            # print(hashMap[n])\n",
    "            hashMap[n] = hashMap[n] + 1\n",
    "        else: hashMap[n] = 1\n",
    "\n",
    "    hashVals = list(hashMap.values())\n",
    "    hashVals.sort(reverse=True)\n",
    "    for n in hashVals:\n",
    "        count += 1\n",
    "        if count <= k:\n",
    "            for key, val in hashMap.items():\n",
    "                if n == val:\n",
    "                    hashSet.add(key)\n",
    "    return list(hashSet)\n",
    "                \n",
    "\n"
   ]
  },
  {
   "cell_type": "code",
   "execution_count": 71,
   "id": "ada49adb-97f5-4d41-b506-976498efa107",
   "metadata": {},
   "outputs": [
    {
     "data": {
      "text/plain": [
       "[2]"
      ]
     },
     "execution_count": 71,
     "metadata": {},
     "output_type": "execute_result"
    }
   ],
   "source": [
    "topKFrequentElements([1, 2, 2, 2, 3, 4,4, 3, ], 1)"
   ]
  },
  {
   "cell_type": "code",
   "execution_count": null,
   "id": "534ff6e9-4c39-49cb-95e0-00467b2169f8",
   "metadata": {},
   "outputs": [],
   "source": []
  }
 ],
 "metadata": {
  "kernelspec": {
   "display_name": "Python 3 (ipykernel)",
   "language": "python",
   "name": "python3"
  },
  "language_info": {
   "codemirror_mode": {
    "name": "ipython",
    "version": 3
   },
   "file_extension": ".py",
   "mimetype": "text/x-python",
   "name": "python",
   "nbconvert_exporter": "python",
   "pygments_lexer": "ipython3",
   "version": "3.11.4"
  }
 },
 "nbformat": 4,
 "nbformat_minor": 5
}
