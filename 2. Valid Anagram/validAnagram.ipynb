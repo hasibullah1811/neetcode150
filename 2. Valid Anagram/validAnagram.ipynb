{
 "cells": [
  {
   "cell_type": "markdown",
   "id": "485d50bd-1df4-4118-9ba1-89fbc0af4f28",
   "metadata": {},
   "source": [
    "# Given two strings s and t, return true if the two strings are anagrams of each other, otherwise return false.\n",
    "\n",
    "An anagram is a string that contains the exact same characters as another string, but the order of the characters can be different."
   ]
  },
  {
   "cell_type": "code",
   "execution_count": 10,
   "id": "44fcdbcf-688c-4aeb-b248-bac4622fe368",
   "metadata": {},
   "outputs": [],
   "source": [
    "def isAnagram(s, t):\n",
    "    if len(s) != len(t):\n",
    "        return False\n",
    "    countS, countT = {}, {}\n",
    "\n",
    "    for i in range(len(s)):\n",
    "        countS[s[i]] = 1 + countS.get(s[i],0)\n",
    "        countT[t[i]] = 1 + countT.get(t[i],0)\n",
    "    for n in countS:\n",
    "        if countS[n] != countT.get(n,0):\n",
    "            return False\n",
    "    return True\n",
    "        "
   ]
  },
  {
   "cell_type": "code",
   "execution_count": 12,
   "id": "5e035c32-4a66-4cf4-b883-0b31e2f5da3c",
   "metadata": {},
   "outputs": [
    {
     "data": {
      "text/plain": [
       "False"
      ]
     },
     "execution_count": 12,
     "metadata": {},
     "output_type": "execute_result"
    }
   ],
   "source": [
    "isAnagram(\"aabbc\", \"aabc\")"
   ]
  },
  {
   "cell_type": "code",
   "execution_count": null,
   "id": "64874b88-1b2f-4940-83f4-9801e3dbf6f8",
   "metadata": {},
   "outputs": [],
   "source": []
  }
 ],
 "metadata": {
  "kernelspec": {
   "display_name": "Python 3 (ipykernel)",
   "language": "python",
   "name": "python3"
  },
  "language_info": {
   "codemirror_mode": {
    "name": "ipython",
    "version": 3
   },
   "file_extension": ".py",
   "mimetype": "text/x-python",
   "name": "python",
   "nbconvert_exporter": "python",
   "pygments_lexer": "ipython3",
   "version": "3.11.4"
  }
 },
 "nbformat": 4,
 "nbformat_minor": 5
}
