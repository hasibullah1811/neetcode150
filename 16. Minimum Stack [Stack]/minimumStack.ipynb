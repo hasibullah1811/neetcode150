{
 "cells": [
  {
   "cell_type": "markdown",
   "id": "52a2e702-40d1-4fab-ab0e-a442ccf53404",
   "metadata": {},
   "source": [
    "## Minimum Stack\n",
    "Design a stack class that supports the push, pop, top, and getMin operations.\n",
    "\n",
    "- MinStack() initializes the stack object.\n",
    "- void push(int val) pushes the element val onto the stack.\n",
    "- void pop() removes the element on the top of the stack.\n",
    "- int top() gets the top element of the stack.\n",
    "- int getMin() retrieves the minimum element in the stack.\n",
    "\n",
    "Each function should run in O(1) time.\n",
    "\n"
   ]
  },
  {
   "cell_type": "code",
   "execution_count": 74,
   "id": "51a03992-593d-433c-8ace-9b5c5fb03e5d",
   "metadata": {},
   "outputs": [],
   "source": [
    "class MinStack:\n",
    "\n",
    "    def __init__(self):\n",
    "        self.initStack = []  \n",
    "        self.auxStack = []\n",
    "\n",
    "    def push(self, val: int) -> None:\n",
    "        self.initStack.append(val)\n",
    "        val = min(val, self.auxStack[-1] if self.auxStack else val)\n",
    "        self.auxStack.append(val)\n",
    "            \n",
    "    def pop(self) -> None:\n",
    "        self.initStack.pop()\n",
    "        self.auxStack.pop()    \n",
    "    def top(self) -> int:\n",
    "        return self.initStack[-1]\n",
    "\n",
    "    def getMin(self) -> int:\n",
    "        return self.auxStack[-1]\n",
    "        "
   ]
  },
  {
   "cell_type": "code",
   "execution_count": 75,
   "id": "91af328f-9edd-4ce9-9718-ee40d3fdd3d8",
   "metadata": {},
   "outputs": [],
   "source": [
    "myStack = MinStack()\n",
    "myStack.push(3)\n",
    "myStack.push(7)\n",
    "myStack.push(8)\n",
    "myStack.push(2)\n",
    "myStack.pop()\n",
    "# myStack.pop()"
   ]
  },
  {
   "cell_type": "code",
   "execution_count": 76,
   "id": "2d24f9af-d7d9-4891-8902-59cf35e7ea4f",
   "metadata": {},
   "outputs": [
    {
     "data": {
      "text/plain": [
       "[3, 7, 8]"
      ]
     },
     "execution_count": 76,
     "metadata": {},
     "output_type": "execute_result"
    }
   ],
   "source": [
    "myStack.initStack"
   ]
  },
  {
   "cell_type": "code",
   "execution_count": 77,
   "id": "79379349-587d-4d42-b633-1894309879bf",
   "metadata": {},
   "outputs": [
    {
     "data": {
      "text/plain": [
       "[3, 3, 3]"
      ]
     },
     "execution_count": 77,
     "metadata": {},
     "output_type": "execute_result"
    }
   ],
   "source": [
    "myStack.auxStack\n"
   ]
  },
  {
   "cell_type": "code",
   "execution_count": 78,
   "id": "a3e123e5-5755-4774-8d81-2b2881f66223",
   "metadata": {},
   "outputs": [
    {
     "data": {
      "text/plain": [
       "3"
      ]
     },
     "execution_count": 78,
     "metadata": {},
     "output_type": "execute_result"
    }
   ],
   "source": [
    "myStack.getMin()"
   ]
  },
  {
   "cell_type": "code",
   "execution_count": 59,
   "id": "7b14d25a-51ff-4eca-8ec1-46b614bc70f7",
   "metadata": {},
   "outputs": [
    {
     "data": {
      "text/plain": [
       "2"
      ]
     },
     "execution_count": 59,
     "metadata": {},
     "output_type": "execute_result"
    }
   ],
   "source": [
    "myStack.initStack\n",
    "myStack.auxStack\n",
    "myStack.getMin()"
   ]
  },
  {
   "cell_type": "code",
   "execution_count": 79,
   "id": "4ca997c9-4dc6-4572-8cb1-86bc4644866c",
   "metadata": {},
   "outputs": [
    {
     "data": {
      "text/plain": [
       "8"
      ]
     },
     "execution_count": 79,
     "metadata": {},
     "output_type": "execute_result"
    }
   ],
   "source": [
    "myStack.top()"
   ]
  },
  {
   "cell_type": "code",
   "execution_count": 80,
   "id": "3e38ef94-8a23-4668-80ae-715b5d978aeb",
   "metadata": {},
   "outputs": [
    {
     "data": {
      "text/plain": [
       "3"
      ]
     },
     "execution_count": 80,
     "metadata": {},
     "output_type": "execute_result"
    }
   ],
   "source": [
    "myStack.getMin()\n"
   ]
  },
  {
   "cell_type": "code",
   "execution_count": null,
   "id": "136e3da1-5ae1-4778-aaca-6e5120f98829",
   "metadata": {},
   "outputs": [],
   "source": []
  }
 ],
 "metadata": {
  "kernelspec": {
   "display_name": "Python 3 (ipykernel)",
   "language": "python",
   "name": "python3"
  },
  "language_info": {
   "codemirror_mode": {
    "name": "ipython",
    "version": 3
   },
   "file_extension": ".py",
   "mimetype": "text/x-python",
   "name": "python",
   "nbconvert_exporter": "python",
   "pygments_lexer": "ipython3",
   "version": "3.11.4"
  }
 },
 "nbformat": 4,
 "nbformat_minor": 5
}
