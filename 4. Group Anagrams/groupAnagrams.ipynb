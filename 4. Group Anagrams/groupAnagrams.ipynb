{
 "cells": [
  {
   "cell_type": "markdown",
   "id": "4ddf0a53-0974-459b-bb0a-e2a183394749",
   "metadata": {},
   "source": [
    "# Given an array of strings strs, group all anagrams together into sublists. You may return the output in any order.\n",
    "\n",
    "An anagram is a string that contains the exact same characters as another string, but the order of the characters can be different."
   ]
  },
  {
   "cell_type": "code",
   "execution_count": 35,
   "id": "ce7685f1-e3df-4a31-8e81-6c8a4ad54fac",
   "metadata": {},
   "outputs": [],
   "source": [
    "from collections import defaultdict\n",
    "def groupAnagrams(strs):\n",
    "    result = defaultdict(list)\n",
    "    for s in strs:\n",
    "        count = [0] * 26\n",
    "        for c in s:\n",
    "            count[ord(c) - ord('a')] += 1\n",
    "        # print(count)\n",
    "        print(result[tuple(count)].append(s))\n",
    "        print(list(result.values()))\n",
    "    return list(result.values())"
   ]
  },
  {
   "cell_type": "code",
   "execution_count": 36,
   "id": "c51db1b1-3cd5-4776-b816-656de65be293",
   "metadata": {},
   "outputs": [
    {
     "name": "stdout",
     "output_type": "stream",
     "text": [
      "None\n",
      "[['pot']]\n",
      "None\n",
      "[['pot', 'top']]\n",
      "None\n",
      "[['pot', 'top', 'opt']]\n",
      "None\n",
      "[['pot', 'top', 'opt'], ['ahott']]\n"
     ]
    },
    {
     "data": {
      "text/plain": [
       "[['pot', 'top', 'opt'], ['ahott']]"
      ]
     },
     "execution_count": 36,
     "metadata": {},
     "output_type": "execute_result"
    }
   ],
   "source": [
    "groupAnagrams(['pot','top','opt', 'ahott'])"
   ]
  },
  {
   "cell_type": "code",
   "execution_count": null,
   "id": "ad12e668-543d-4b27-990a-156099457999",
   "metadata": {},
   "outputs": [],
   "source": []
  }
 ],
 "metadata": {
  "kernelspec": {
   "display_name": "Python 3 (ipykernel)",
   "language": "python",
   "name": "python3"
  },
  "language_info": {
   "codemirror_mode": {
    "name": "ipython",
    "version": 3
   },
   "file_extension": ".py",
   "mimetype": "text/x-python",
   "name": "python",
   "nbconvert_exporter": "python",
   "pygments_lexer": "ipython3",
   "version": "3.11.4"
  }
 },
 "nbformat": 4,
 "nbformat_minor": 5
}
