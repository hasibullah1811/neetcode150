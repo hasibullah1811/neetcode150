{
 "cells": [
  {
   "cell_type": "markdown",
   "id": "637cab98-157c-4ba3-ae0a-7dd5c58fb455",
   "metadata": {},
   "source": [
    "## Valid Palindrome\n",
    "Given a string s, return true if it is a palindrome, otherwise return false.\n",
    "A palindrome is a string that reads the same forward and backward. It is also case-insensitive and ignores all non-alphanumeric characters.\n",
    "\n",
    "Note: Alphanumeric characters consist of letters (A-Z, a-z) and numbers (0-9).\n",
    "\n",
    "Example 1:\n",
    "\n",
    "Input: s = \"Was it a car or a cat I saw?\"\n",
    "\n",
    "Output: true"
   ]
  },
  {
   "cell_type": "code",
   "execution_count": 6,
   "id": "c7f39ce9-c1c4-43c3-add6-79197f7fe9f1",
   "metadata": {},
   "outputs": [],
   "source": [
    "def isAlphaNumerical(c : str):\n",
    "    return (\n",
    "            ord(\"A\") <= ord(c) <= ord(\"Z\") or \n",
    "            ord(\"a\") <= ord(c) <= ord(\"z\") or\n",
    "            ord(\"0\") <= ord(c) <= ord(\"9\")\n",
    "    )"
   ]
  },
  {
   "cell_type": "code",
   "execution_count": 12,
   "id": "ba36fe97-a44d-4211-a660-7ce5bb7c94d2",
   "metadata": {},
   "outputs": [],
   "source": [
    "def validPalindrome(s:str):\n",
    "\n",
    "    leftPointer, rightPointer = 0, len(s) - 1\n",
    "\n",
    "    while leftPointer < rightPointer:\n",
    "        while leftPointer < rightPointer and not isAlphaNumerical(s[leftPointer]):\n",
    "            leftPointer += 1\n",
    "        while rightPointer > leftPointer and not isAlphaNumerical(s[rightPointer]):\n",
    "            rightPointer -= 1\n",
    "        if s[leftPointer].lower() != s[rightPointer].lower():\n",
    "            return False\n",
    "        leftPointer, rightPointer = leftPointer + 1, rightPointer - 1\n",
    "    return True\n",
    "            "
   ]
  },
  {
   "cell_type": "code",
   "execution_count": 15,
   "id": "5839b7e1-c699-49c3-8482-29fbdbc21151",
   "metadata": {},
   "outputs": [
    {
     "data": {
      "text/plain": [
       "True"
      ]
     },
     "execution_count": 15,
     "metadata": {},
     "output_type": "execute_result"
    }
   ],
   "source": [
    "validPalindrome(\"Was it a car or a cat I saw?\")"
   ]
  },
  {
   "cell_type": "code",
   "execution_count": null,
   "id": "c7181567-6171-443b-9ed7-183d8ff78918",
   "metadata": {},
   "outputs": [],
   "source": []
  }
 ],
 "metadata": {
  "kernelspec": {
   "display_name": "Python 3 (ipykernel)",
   "language": "python",
   "name": "python3"
  },
  "language_info": {
   "codemirror_mode": {
    "name": "ipython",
    "version": 3
   },
   "file_extension": ".py",
   "mimetype": "text/x-python",
   "name": "python",
   "nbconvert_exporter": "python",
   "pygments_lexer": "ipython3",
   "version": "3.11.4"
  }
 },
 "nbformat": 4,
 "nbformat_minor": 5
}
