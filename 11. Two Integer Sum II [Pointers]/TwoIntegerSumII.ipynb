{
 "cells": [
  {
   "cell_type": "markdown",
   "id": "b68eafa6-7520-4ed0-ac5e-e5dec1a6dd71",
   "metadata": {},
   "source": [
    "## Two Integer Sum II\n",
    "Given an array of integers numbers that is sorted in non-decreasing order.\n",
    "\n",
    "Return the indices (1-indexed) of two numbers, [index1, index2], such that they add up to a given target number target and index1 < index2. Note that index1 and index2 cannot be equal, therefore you may not use the same element twice.\n",
    "\n",
    "There will always be exactly one valid solution.\n",
    "\n",
    "Your solution must use \n",
    "O(1)\n",
    "O(1) additional space.\n",
    "\n",
    "Example: [1,2,3,5] , Target = 3"
   ]
  },
  {
   "cell_type": "code",
   "execution_count": 16,
   "id": "960d6e7a-a2c6-42da-892a-ce06f2197ed4",
   "metadata": {},
   "outputs": [],
   "source": [
    "def twoIntegerSum(nums:list, target: int):\n",
    "    leftPointer, rightPointer = 0, len(nums) - 1\n",
    "\n",
    "    while leftPointer < rightPointer:\n",
    "        sum = nums[leftPointer] + nums[rightPointer]\n",
    "\n",
    "        if sum > target:\n",
    "            rightPointer -= 1\n",
    "        elif sum < target:\n",
    "            leftPointer += 1\n",
    "        else: return [leftPointer + 1 , rightPointer + 1]\n",
    "    return []\n",
    "            "
   ]
  },
  {
   "cell_type": "code",
   "execution_count": 17,
   "id": "6b2667b3-f3fc-4588-9efd-14c18f7afee3",
   "metadata": {},
   "outputs": [
    {
     "data": {
      "text/plain": [
       "[1, 5]"
      ]
     },
     "execution_count": 17,
     "metadata": {},
     "output_type": "execute_result"
    }
   ],
   "source": [
    "twoIntegerSum([1,2,3,5,5], 6)"
   ]
  },
  {
   "cell_type": "code",
   "execution_count": null,
   "id": "4e5a63f1-213c-460b-87ce-0d4e67ec49e6",
   "metadata": {},
   "outputs": [],
   "source": []
  }
 ],
 "metadata": {
  "kernelspec": {
   "display_name": "Python 3 (ipykernel)",
   "language": "python",
   "name": "python3"
  },
  "language_info": {
   "codemirror_mode": {
    "name": "ipython",
    "version": 3
   },
   "file_extension": ".py",
   "mimetype": "text/x-python",
   "name": "python",
   "nbconvert_exporter": "python",
   "pygments_lexer": "ipython3",
   "version": "3.11.4"
  }
 },
 "nbformat": 4,
 "nbformat_minor": 5
}
