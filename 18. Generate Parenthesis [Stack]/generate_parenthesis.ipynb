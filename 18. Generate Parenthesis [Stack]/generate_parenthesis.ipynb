{
 "cells": [
  {
   "cell_type": "markdown",
   "id": "9134ffe3-4f26-44f9-b0e6-248807ad1f1d",
   "metadata": {},
   "source": [
    "## Given n pairs of parentheses, write a function to generate all combinations of well-formed parentheses.\n",
    "\n",
    "Example 1:\n",
    "\n",
    "Input: n = 3\n",
    "Output: [\"((()))\",\"(()())\",\"(())()\",\"()(())\",\"()()()\"]\n",
    "Example 2:\n",
    "\n",
    "Input: n = 1\n",
    "Output: [\"()\"]\n"
   ]
  },
  {
   "cell_type": "code",
   "execution_count": 1,
   "id": "93e58505-b598-4a98-a6f3-4006267a42a6",
   "metadata": {},
   "outputs": [],
   "source": [
    "def generateParenthesis(num: int()):\n",
    "\n",
    "    stack = []\n",
    "    res = []\n",
    "\n",
    "    def backTrack(openN, closedN):\n",
    "        if openN == closedN == num:\n",
    "            res.append(\"\".join(stack))\n",
    "        if openN < num:\n",
    "            stack.append(\"(\")\n",
    "            backTrack(openN + 1, closedN)\n",
    "            stack.pop()\n",
    "        if closedN < openN:\n",
    "            stack.append(\")\")\n",
    "            backTrack(openN, closedN + 1)\n",
    "            stack.pop()\n",
    "    backTrack(0,0)\n",
    "    return res\n",
    "        "
   ]
  },
  {
   "cell_type": "code",
   "execution_count": 4,
   "id": "0ea3b674-fdbe-4685-b5ca-6ef630327453",
   "metadata": {},
   "outputs": [
    {
     "data": {
      "text/plain": [
       "['()']"
      ]
     },
     "execution_count": 4,
     "metadata": {},
     "output_type": "execute_result"
    }
   ],
   "source": [
    "generateParenthesis(1)"
   ]
  },
  {
   "cell_type": "markdown",
   "id": "8b5085da-0857-4613-9878-3382a81a427a",
   "metadata": {},
   "source": [
    "# Visualization Example\n",
    "\n",
    "Start: \"\"\n",
    "(openN=0, closedN=0)\n",
    "\n",
    "         \"\"\n",
    "        /  \\\n",
    "       (    X   <-- can't add \")\" yet (no opens placed)\n",
    "\n",
    "1st branch: \"(\"\n",
    "(openN=1, closedN=0)\n",
    "\n",
    "            \"(\"\n",
    "           /   \\\n",
    "         \"((\"   \"()\"\n",
    "      (2,0)   (1,1)\n",
    "\n",
    "Left branch: \"((\"\n",
    "(openN=2, closedN=0)\n",
    "\n",
    "                \"((\"\n",
    "                  |\n",
    "                 \"(())\"\n",
    "               (2,2) ✅ VALID\n",
    "\n",
    "\n",
    "Right branch: \"()\"\n",
    "(openN=1, closedN=1)\n",
    "\n",
    "                \"()\"\n",
    "                  |\n",
    "                \"()()\"\n",
    "               (2,2) ✅ VALID\n"
   ]
  },
  {
   "cell_type": "code",
   "execution_count": null,
   "id": "a700e54d-0c44-4517-82c8-8bcb2e369e21",
   "metadata": {},
   "outputs": [],
   "source": []
  },
  {
   "cell_type": "code",
   "execution_count": null,
   "id": "c9ac2694-0e16-48bc-b804-5f00cd8d2ca7",
   "metadata": {},
   "outputs": [],
   "source": []
  }
 ],
 "metadata": {
  "kernelspec": {
   "display_name": "Python 3 (ipykernel)",
   "language": "python",
   "name": "python3"
  },
  "language_info": {
   "codemirror_mode": {
    "name": "ipython",
    "version": 3
   },
   "file_extension": ".py",
   "mimetype": "text/x-python",
   "name": "python",
   "nbconvert_exporter": "python",
   "pygments_lexer": "ipython3",
   "version": "3.11.4"
  }
 },
 "nbformat": 4,
 "nbformat_minor": 5
}
