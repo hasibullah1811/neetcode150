{
 "cells": [
  {
   "cell_type": "markdown",
   "id": "8774cfde-e6c8-4a14-b517-d2ca707c7e4e",
   "metadata": {},
   "source": [
    "# Given an integer array nums, return true if any value appears more than once in the array, otherwise return false."
   ]
  },
  {
   "cell_type": "code",
   "execution_count": 3,
   "id": "90901e5a-baf3-4ab7-808c-e3810eeb3a69",
   "metadata": {},
   "outputs": [],
   "source": [
    "def containsDuplicate(nums):\n",
    "    hashSet = set()\n",
    "    for n in nums:\n",
    "        if n in hashSet:\n",
    "            return True\n",
    "        hashSet.add(n)\n",
    "    return False"
   ]
  },
  {
   "cell_type": "code",
   "execution_count": 6,
   "id": "c2d70e7c-4886-471e-b71f-27b2566b773d",
   "metadata": {},
   "outputs": [
    {
     "data": {
      "text/plain": [
       "True"
      ]
     },
     "execution_count": 6,
     "metadata": {},
     "output_type": "execute_result"
    }
   ],
   "source": [
    "containsDuplicate([1,2,3,3])"
   ]
  },
  {
   "cell_type": "code",
   "execution_count": 7,
   "id": "db45e023-de1b-4a5c-8ee4-dcf21c4d7484",
   "metadata": {},
   "outputs": [
    {
     "data": {
      "text/plain": [
       "False"
      ]
     },
     "execution_count": 7,
     "metadata": {},
     "output_type": "execute_result"
    }
   ],
   "source": [
    "containsDuplicate([1,2,3,4])"
   ]
  },
  {
   "cell_type": "code",
   "execution_count": null,
   "id": "1d7a4b1c-4334-4e10-b2c9-3d84b9807719",
   "metadata": {},
   "outputs": [],
   "source": []
  }
 ],
 "metadata": {
  "kernelspec": {
   "display_name": "Python 3 (ipykernel)",
   "language": "python",
   "name": "python3"
  },
  "language_info": {
   "codemirror_mode": {
    "name": "ipython",
    "version": 3
   },
   "file_extension": ".py",
   "mimetype": "text/x-python",
   "name": "python",
   "nbconvert_exporter": "python",
   "pygments_lexer": "ipython3",
   "version": "3.11.4"
  }
 },
 "nbformat": 4,
 "nbformat_minor": 5
}
