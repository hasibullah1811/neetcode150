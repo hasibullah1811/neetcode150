{
 "cells": [
  {
   "cell_type": "markdown",
   "id": "bbd19180-417a-4f54-a2b3-b5b880a9c761",
   "metadata": {},
   "source": [
    "## Daily Temperatures\n",
    "You are given an array of integers temperatures where temperatures[i] represents the daily temperatures on the ith day.\n",
    "\n",
    "Return an array result where result[i] is the number of days after the ith day before a warmer temperature appears on a future day. If there is no day in the future where a warmer temperature will appear for the ith day, set result[i] to 0 instead.\n",
    "\n",
    "Example 1:\n",
    "\n",
    "Input: temperatures = [30,38,30,36,35,40,28]\n",
    "\n",
    "Output: [1,4,1,2,1,0,0]"
   ]
  },
  {
   "cell_type": "code",
   "execution_count": 4,
   "id": "85b650cf-29e8-41f7-91a5-b882cc704cb4",
   "metadata": {},
   "outputs": [],
   "source": [
    "def dailyTemperatures(self, temperatures: list()):\n",
    "    res = [0] * len(temperatures)\n",
    "    stack = []  \n",
    "\n",
    "    for i, t in enumerate(temperatures):\n",
    "        while stack and t > stack[-1][0]:\n",
    "            stackT, stackInd = stack.pop()\n",
    "            res[stackInd] = i - stackInd\n",
    "        stack.append((t, i))\n",
    "    return res"
   ]
  },
  {
   "cell_type": "code",
   "execution_count": 5,
   "id": "fa5b1d04-3601-422b-a5f3-62ad1f9e2fb3",
   "metadata": {},
   "outputs": [
    {
     "ename": "TypeError",
     "evalue": "dailyTemperatures() missing 1 required positional argument: 'temperatures'",
     "output_type": "error",
     "traceback": [
      "\u001b[0;31m---------------------------------------------------------------------------\u001b[0m",
      "\u001b[0;31mTypeError\u001b[0m                                 Traceback (most recent call last)",
      "Cell \u001b[0;32mIn[5], line 1\u001b[0m\n\u001b[0;32m----> 1\u001b[0m \u001b[43mdailyTemperatures\u001b[49m\u001b[43m(\u001b[49m\u001b[43m[\u001b[49m\u001b[38;5;241;43m30\u001b[39;49m\u001b[43m,\u001b[49m\u001b[38;5;241;43m38\u001b[39;49m\u001b[43m,\u001b[49m\u001b[38;5;241;43m30\u001b[39;49m\u001b[43m,\u001b[49m\u001b[38;5;241;43m36\u001b[39;49m\u001b[43m,\u001b[49m\u001b[38;5;241;43m35\u001b[39;49m\u001b[43m,\u001b[49m\u001b[38;5;241;43m40\u001b[39;49m\u001b[43m,\u001b[49m\u001b[38;5;241;43m28\u001b[39;49m\u001b[43m]\u001b[49m\u001b[43m)\u001b[49m\n",
      "\u001b[0;31mTypeError\u001b[0m: dailyTemperatures() missing 1 required positional argument: 'temperatures'"
     ]
    }
   ],
   "source": [
    "dailyTemperatures([30,38,30,36,35,40,28])"
   ]
  },
  {
   "cell_type": "code",
   "execution_count": null,
   "id": "c573167a-153d-4b39-a7b0-c08b77d0b6c7",
   "metadata": {},
   "outputs": [],
   "source": []
  }
 ],
 "metadata": {
  "kernelspec": {
   "display_name": "Python 3 (ipykernel)",
   "language": "python",
   "name": "python3"
  },
  "language_info": {
   "codemirror_mode": {
    "name": "ipython",
    "version": 3
   },
   "file_extension": ".py",
   "mimetype": "text/x-python",
   "name": "python",
   "nbconvert_exporter": "python",
   "pygments_lexer": "ipython3",
   "version": "3.11.4"
  }
 },
 "nbformat": 4,
 "nbformat_minor": 5
}
