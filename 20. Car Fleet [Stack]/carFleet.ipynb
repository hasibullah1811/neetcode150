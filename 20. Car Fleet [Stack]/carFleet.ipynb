{
 "cells": [
  {
   "cell_type": "markdown",
   "id": "67330922-4bde-4df4-afef-fa8a3914a952",
   "metadata": {},
   "source": [
    "## There are n cars at given miles away from the starting mile 0, traveling to reach the mile target.\n",
    "\n",
    "You are given two integer arrays position and speed, both of length n, where position[i] is the starting mile of the ith car and speed[i] is the speed of the ith car in miles per hour.\n",
    "\n",
    "A car cannot pass another car, but it can catch up and then travel next to it at the speed of the slower car.\n",
    "\n",
    "A car fleet is a single car or a group of cars driving next to each other. The speed of the car fleet is the minimum speed of any car in the fleet.\n",
    "\n",
    "If a car catches up to a car fleet at the mile target, it will still be considered as part of the car fleet.\n",
    "\n",
    "Return the number of car fleets that will arrive at the destination.\n",
    "\n",
    "Example 1:\n",
    "\n",
    "Input: target = 12, position = [10,8,0,5,3], speed = [2,4,1,1,3]\n",
    "\n",
    "Output: 3\n",
    "\n",
    "Explanation:\n",
    "\n",
    "The cars starting at 10 (speed 2) and 8 (speed 4) become a fleet, meeting each other at 12. The fleet forms at target.\n",
    "The car starting at 0 (speed 1) does not catch up to any other car, so it is a fleet by itself.\n",
    "The cars starting at 5 (speed 1) and 3 (speed 3) become a fleet, meeting each other at 6. The fleet moves at speed 1 until it reaches target."
   ]
  },
  {
   "cell_type": "code",
   "execution_count": 32,
   "id": "c3fc6836-6f51-456f-bfad-7ca4cb8e5a79",
   "metadata": {},
   "outputs": [],
   "source": [
    "def carFleet(position: list(), speed: list(), target: int()):\n",
    "    pairs = [[p,s] for p, s in zip(position, speed)]\n",
    "    stack = []\n",
    "\n",
    "    print(sorted(pairs)[::-1])\n",
    "    for p, s in sorted(pairs)[::-1]:\n",
    "        stack.append((target-p)/s)\n",
    "        print(stack)\n",
    "        if len(stack) >= 2 and stack[-1] <= stack[-2]:\n",
    "            stack.pop()\n",
    "    return len(stack)"
   ]
  },
  {
   "cell_type": "code",
   "execution_count": 33,
   "id": "ddfcdff3-98da-4830-92c0-85ecebfaa68f",
   "metadata": {},
   "outputs": [
    {
     "name": "stdout",
     "output_type": "stream",
     "text": [
      "[[10, 2], [8, 4], [5, 1], [3, 3], [0, 1]]\n",
      "[1.0]\n",
      "[1.0, 1.0]\n",
      "[1.0, 7.0]\n",
      "[1.0, 7.0, 3.0]\n",
      "[1.0, 7.0, 12.0]\n"
     ]
    },
    {
     "data": {
      "text/plain": [
       "3"
      ]
     },
     "execution_count": 33,
     "metadata": {},
     "output_type": "execute_result"
    }
   ],
   "source": [
    "carFleet([10,8,0,5,3],[2,4,1,1,3], 12)"
   ]
  },
  {
   "cell_type": "markdown",
   "id": "f16a2828-dac8-46fe-835c-316219d076be",
   "metadata": {},
   "source": [
    "# Better Solution"
   ]
  },
  {
   "cell_type": "code",
   "execution_count": 7,
   "id": "e29a154c-464f-47a9-bfcb-7fe7fda2eae4",
   "metadata": {},
   "outputs": [],
   "source": [
    "def carFleetOpt(target: int(), position: list(), speed: list()):\n",
    "    stack = []\n",
    "\n",
    "    for p, s in sorted(zip(position, speed), reverse=True):\n",
    "        time = ((target-p)/s)\n",
    "        if not stack or time > stack[-1]:\n",
    "            stack.append(time)\n",
    "    return len(stack)"
   ]
  },
  {
   "cell_type": "code",
   "execution_count": 8,
   "id": "d21329db-200e-42ea-8c46-1ad66dbaceea",
   "metadata": {},
   "outputs": [
    {
     "data": {
      "text/plain": [
       "3"
      ]
     },
     "execution_count": 8,
     "metadata": {},
     "output_type": "execute_result"
    }
   ],
   "source": [
    "carFleetOpt(12, [10,8,0,5,3],[2,4,1,1,3])"
   ]
  },
  {
   "cell_type": "code",
   "execution_count": null,
   "id": "d5df78e4-b73e-4022-b3c3-182d02457da1",
   "metadata": {},
   "outputs": [],
   "source": []
  },
  {
   "cell_type": "code",
   "execution_count": null,
   "id": "0c5a43f5-e4d3-4ab1-8790-8c4be30bbe66",
   "metadata": {},
   "outputs": [],
   "source": []
  }
 ],
 "metadata": {
  "kernelspec": {
   "display_name": "Python 3 (ipykernel)",
   "language": "python",
   "name": "python3"
  },
  "language_info": {
   "codemirror_mode": {
    "name": "ipython",
    "version": 3
   },
   "file_extension": ".py",
   "mimetype": "text/x-python",
   "name": "python",
   "nbconvert_exporter": "python",
   "pygments_lexer": "ipython3",
   "version": "3.11.4"
  }
 },
 "nbformat": 4,
 "nbformat_minor": 5
}
