{
 "cells": [
  {
   "cell_type": "markdown",
   "id": "912cdb2b-af4c-411f-a722-026eb0e0eb85",
   "metadata": {},
   "source": [
    "# You are given a 9 x 9 Sudoku board board. A Sudoku board is valid if the following rules are followed:\n",
    "\n",
    "- Each row must contain the digits 1-9 without duplicates.\n",
    "- Each column must contain the digits 1-9 without duplicates.\n",
    "- Each of the nine 3 x 3 sub-boxes of the grid must contain the digits 1-9 without duplicates.\n",
    "- Return true if the Sudoku board is valid, otherwise return false\n",
    "\n",
    "Note: A board does not need to be full or be solvable to be valid."
   ]
  },
  {
   "cell_type": "code",
   "execution_count": 4,
   "id": "c7b05e7d-b749-4e18-bf56-162284dad3ab",
   "metadata": {},
   "outputs": [],
   "source": [
    "from collections import defaultdict"
   ]
  },
  {
   "cell_type": "code",
   "execution_count": 26,
   "id": "2ebad53a-0e09-420e-b6fe-16d1b3e5f814",
   "metadata": {},
   "outputs": [],
   "source": [
    "def validSudoku(board):\n",
    "\n",
    "    rows = defaultdict(set)\n",
    "    columns = defaultdict(set)\n",
    "    squares = defaultdict(set)\n",
    "\n",
    "    for r in range(9):\n",
    "        for c in range(9):\n",
    "            if board[r][c] == \".\":\n",
    "                continue\n",
    "            if (\n",
    "                (board[r][c] in rows[r]) or \n",
    "                (board[r][c] in columns[c]) or\n",
    "                (board[r][c] in squares[r//3, c//3])\n",
    "               ):\n",
    "                return False\n",
    "            else:\n",
    "                rows[r].add(board[r][c])\n",
    "                columns[c].add(board[r][c])\n",
    "                squares[r//3,c//3].add(board[r][c])\n",
    "    return True\n",
    "            \n"
   ]
  },
  {
   "cell_type": "code",
   "execution_count": 28,
   "id": "6adcd111-c284-4e21-bdc1-d9681fa22ee1",
   "metadata": {},
   "outputs": [
    {
     "data": {
      "text/plain": [
       "False"
      ]
     },
     "execution_count": 28,
     "metadata": {},
     "output_type": "execute_result"
    }
   ],
   "source": [
    "board = [[\"1\",\"2\",\".\",\".\",\"3\",\".\",\".\",\".\",\".\"],\n",
    " [\"4\",\".\",\".\",\"5\",\".\",\".\",\".\",\".\",\".\"],\n",
    " [\".\",\"9\",\"1\",\".\",\".\",\".\",\".\",\".\",\"3\"],\n",
    " [\"5\",\".\",\".\",\".\",\"6\",\".\",\".\",\".\",\"4\"],\n",
    " [\".\",\".\",\".\",\"8\",\".\",\"3\",\".\",\".\",\"5\"],\n",
    " [\"7\",\".\",\".\",\".\",\"2\",\".\",\".\",\".\",\"6\"],\n",
    " [\".\",\".\",\".\",\".\",\".\",\".\",\"2\",\".\",\".\"],\n",
    " [\".\",\".\",\".\",\"4\",\"1\",\"9\",\".\",\".\",\"8\"],\n",
    " [\".\",\".\",\".\",\".\",\"8\",\".\",\".\",\"7\",\"9\"]]\n",
    "\n",
    "validSudoku(board)"
   ]
  },
  {
   "cell_type": "code",
   "execution_count": null,
   "id": "39ea890b-82ac-4651-b087-6a77218261bf",
   "metadata": {},
   "outputs": [],
   "source": []
  }
 ],
 "metadata": {
  "kernelspec": {
   "display_name": "Python 3 (ipykernel)",
   "language": "python",
   "name": "python3"
  },
  "language_info": {
   "codemirror_mode": {
    "name": "ipython",
    "version": 3
   },
   "file_extension": ".py",
   "mimetype": "text/x-python",
   "name": "python",
   "nbconvert_exporter": "python",
   "pygments_lexer": "ipython3",
   "version": "3.11.4"
  }
 },
 "nbformat": 4,
 "nbformat_minor": 5
}
