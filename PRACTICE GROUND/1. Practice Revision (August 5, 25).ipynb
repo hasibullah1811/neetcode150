{
 "cells": [
  {
   "cell_type": "markdown",
   "id": "f23d7245-fab6-4f36-b895-4c9a1cd42080",
   "metadata": {},
   "source": [
    "Made by Hasibullah Hasib, Github: hasibullah1811\n",
    "# Revision\n",
    "## Problem: Contains Duplicate\n",
    "Given an integer array nums, return true if any value appears more than once in the array, otherwise return false.\n",
    "\n",
    "Examples:\n",
    "\n",
    "Input: [1,2,3,1] → Output: true (1 appears twice)\n",
    "\n",
    "Input: [1,2,3,4] → Output: false (all elements are unique)\n",
    "\n",
    "Input: [1,1,1,3,3,4,3,2,4,2] → Output: true (multiple duplicates)\n"
   ]
  },
  {
   "cell_type": "markdown",
   "id": "40a8a941-d6ca-40e2-b62a-4ae9738aaca1",
   "metadata": {},
   "source": [
    "# Key Insights\n",
    "\n",
    "- We need to track elements we have already seen\n",
    "- As soon as we find a duplicate, we can return true immediately\n",
    "- If we process all elements without finding duplicates, return false\n",
    "- Using a hash set provides O(1) average lookup time"
   ]
  },
  {
   "cell_type": "code",
   "execution_count": 2,
   "id": "9a489f6f-d0d8-4aa0-8204-045a56e5a722",
   "metadata": {},
   "outputs": [],
   "source": [
    "def containsDuplicate(nums: list):\n",
    "    hashSet = set() # Creates an empty set to store seen elements\n",
    "\n",
    "    for n in nums:    # Iterate through each element\n",
    "        if n not in hashSet: # If element not seen before\n",
    "            hashSet.add(n)   # Add to our tracking set\n",
    "        else:\n",
    "            return True    # Return true if seen before\n",
    "    return False    # Otherwise return false\n",
    "    "
   ]
  },
  {
   "cell_type": "code",
   "execution_count": 10,
   "id": "f1809b68-6c0e-4052-aa83-72cd2c785c2a",
   "metadata": {},
   "outputs": [
    {
     "data": {
      "text/plain": [
       "True"
      ]
     },
     "execution_count": 10,
     "metadata": {},
     "output_type": "execute_result"
    }
   ],
   "source": [
    "containsDuplicate([1,1,1])"
   ]
  },
  {
   "cell_type": "markdown",
   "id": "dcf81696-1175-458b-8566-970cf7e51da2",
   "metadata": {},
   "source": [
    "# Complexity Analysis\n",
    "## Time Complexity: O(n)\n",
    "\n",
    "- We iterate through the array once\n",
    "- Each hash set operation (lookup and insertion) takes O(1) average time\n",
    "- In worst case, we check all n elements\n",
    "\n",
    "## Space Complexity: O(n)\n",
    "\n",
    "- In worst case (no duplicates), we store all n elements in the hash set\n",
    "- Best case (duplicate found early): O(k) where k is position of first duplicate\n",
    "\n",
    "## Edge Cases to Consider\n",
    "\n",
    "- Empty array: [] → should return false\n",
    "- Single element: [1] → should return false\n",
    "- All same elements: [1,1,1,1] → should return true (found on second element)\n",
    "- Large numbers or negative numbers work the same way"
   ]
  },
  {
   "cell_type": "markdown",
   "id": "2c661dfd-e708-4ead-bc7e-c8afbe031fa4",
   "metadata": {},
   "source": [
    "## Why Hash Set is Optimal\n",
    "\n",
    "- Fast lookups: O(1) average time to check if element exists\n",
    "- Early termination: Can return true as soon as duplicate is found\n",
    "- Intuitive: Directly maps to the problem - \"have we seen this before?\"\n",
    "- Scalable: Performance remains good even for large arrays"
   ]
  },
  {
   "cell_type": "markdown",
   "id": "e81f2b8c-b422-4452-9842-9efe2dc8d881",
   "metadata": {},
   "source": [
    "## Problem: Valid Anagram\n",
    "Given two strings s and t, return true if the two strings are anagrams of each other, otherwise return false. An anagram is a string that contains the exact same characters as another string, but the order of the characters can be different.\n",
    "\n",
    "## Examples:\n",
    "\n",
    "- Input: s = \"racecar\", t = \"carrace\" → Output: true\n",
    "- Input: s = \"jar\", t = \"jam\" → Output: false\n",
    "- Input: s = \"listen\", t = \"silent\" → Output: true\n",
    "- Input: s = \"rat\", t = \"car\" → Output: false"
   ]
  },
  {
   "cell_type": "code",
   "execution_count": 30,
   "id": "0e39a6b3-cede-4015-843e-71024496e972",
   "metadata": {},
   "outputs": [],
   "source": [
    "def validAnagram(s: str, t: str):\n",
    "    # Early exit: anagrams must have the same length\n",
    "    if len(s) != len(t):\n",
    "        return False\n",
    "\n",
    "    # Create frequency counter for both strings\n",
    "    countS, countT = {},{}\n",
    "\n",
    "    # Count characters in both string simultaneously \n",
    "    for i in range(len(s)):\n",
    "        # Increment count for character in s (default to 0 if not exists)\n",
    "        countS[s[i]] = 1 + countS.get(s[i], 0)\n",
    "        # Increment count for character in t (default to 0 if not exists)\n",
    "        countT[t[i]] = 1 + countT.get(t[i], 0)\n",
    "\n",
    "    # Compare the two frequency dictionaries\n",
    "    return countS == countT\n",
    "        "
   ]
  },
  {
   "cell_type": "code",
   "execution_count": 31,
   "id": "5d528d1d-21cd-4c83-bc85-e6557851ea5f",
   "metadata": {},
   "outputs": [
    {
     "name": "stdout",
     "output_type": "stream",
     "text": [
      "{'r': 1}\n",
      "{'r': 1, 'a': 1}\n",
      "{'r': 1, 'a': 1, 'c': 1}\n",
      "{'r': 1, 'a': 1, 'c': 1, 'e': 1}\n",
      "{'r': 1, 'a': 1, 'c': 2, 'e': 1}\n",
      "{'r': 1, 'a': 2, 'c': 2, 'e': 1}\n",
      "{'r': 2, 'a': 2, 'c': 2, 'e': 1}\n"
     ]
    },
    {
     "data": {
      "text/plain": [
       "True"
      ]
     },
     "execution_count": 31,
     "metadata": {},
     "output_type": "execute_result"
    }
   ],
   "source": [
    "validAnagram(\"racecar\", \"carrace\")"
   ]
  },
  {
   "cell_type": "markdown",
   "id": "5c59dbf0-3232-4147-a1b0-d698d45f725b",
   "metadata": {},
   "source": [
    "# Complexity Analysis\n",
    "## Time Complexity: O(n)\n",
    "\n",
    "- We iterate through both strings once: O(n)\n",
    "- Dictionary operations (get, set) are O(1) average case\n",
    "- Dictionary comparison is O(n) in worst case\n",
    "### Overall: O(n) where n is the length of the strings\n",
    "\n",
    "## Space Complexity: O(k)\n",
    "\n",
    "- We store at most k unique characters in each dictionary\n",
    "- k ≤ n (number of unique characters ≤ string length)\n",
    "- For English alphabet: O(26) = O(1) in practice\n",
    "### Generally: O(k) where k is the character set size\n",
    "\n",
    "## Edge Cases to Consider\n",
    "\n",
    "- Empty strings: s = \"\", t = \"\" → should return true\n",
    "- Different lengths: s = \"abc\", t = \"ab\" → should return false\n",
    "- Single character: s = \"a\", t = \"a\" → should return true\n",
    "- Case sensitivity: s = \"A\", t = \"a\" → should return false (different characters)\n",
    "- Repeated characters: s = \"aab\", t = \"aba\" → should return true"
   ]
  },
  {
   "cell_type": "markdown",
   "id": "998f4c8f-0b5f-40e5-a1d2-5d4bb00f67b8",
   "metadata": {},
   "source": [
    "# Problem : Two Sum\n",
    "\n",
    "Given an array of integers nums and an integer target, return the indices i and j such that nums[i] + nums[j] == target and i != j.\n",
    "\n",
    "You may assume that every input has exactly one pair of indices i and j that satisfy the condition.\n",
    "\n",
    "Return the answer with the smaller index first.\n",
    "\n",
    "Input: \n",
    "\n",
    "nums = [3,4,5,6], target = 7\n",
    "\n",
    "Output: [0,1]"
   ]
  },
  {
   "cell_type": "code",
   "execution_count": 52,
   "id": "77e4a3dd-9b36-4204-b960-9beb924f32e9",
   "metadata": {},
   "outputs": [],
   "source": [
    "def twoSum(nums: list, target: int):\n",
    "    prevMap = {}\n",
    "\n",
    "    for i, n in enumerate(nums):\n",
    "        diff = target - n\n",
    "        if diff in prevMap:\n",
    "            return [prevMap[diff], i]\n",
    "        prevMap[diff] = i\n"
   ]
  },
  {
   "cell_type": "code",
   "execution_count": 51,
   "id": "a19eff82-14f5-4781-a1e0-50371ad6b62c",
   "metadata": {},
   "outputs": [],
   "source": [
    "twoSum([3,4,5,6], 7)"
   ]
  },
  {
   "cell_type": "markdown",
   "id": "9d1d4666-35e1-4410-abda-80cc96de6649",
   "metadata": {},
   "source": [
    "# Problem: Group Anagrams\n",
    "Given an array of strings strs, group all anagrams together into sublists. You may return the output in any order.\n",
    "\n",
    "An anagram is a string that contains the exact same characters as another string, but the order of the characters can be different.\n",
    "\n",
    "Input: strs = [\"act\",\"pots\",\"tops\",\"cat\",\"stop\",\"hat\"]\n",
    "\n",
    "Output: [[\"hat\"],[\"act\", \"cat\"],[\"stop\", \"pots\", \"tops\"]]\n",
    "\n",
    "## Examples:\n",
    "\n",
    "- Input: strs = [\"act\",\"pots\",\"tops\",\"cat\",\"stop\",\"hat\"]\n",
    "- Output: [[\"hat\"],[\"act\", \"cat\"],[\"stop\", \"pots\", \"tops\"]]\n",
    "- Input: strs = [\"eat\",\"tea\",\"tan\",\"ate\",\"nat\",\"bat\"]\n",
    "- Output: [[\"bat\"],[\"nat\",\"tan\"],[\"ate\",\"eat\",\"tea\"]]\n",
    "\n",
    "## Key Insights\n",
    "\n",
    "- Anagrams have identical character frequency patterns\n",
    "- We need a way to create a unique \"signature\" for each anagram group\n",
    "- Use this signature as a key to group strings together\n",
    "- Character frequency array can serve as a unique identifier\n",
    "- HashMap groups strings with the same signature"
   ]
  },
  {
   "cell_type": "code",
   "execution_count": 66,
   "id": "9152605c-3494-4673-9521-6ad8ce38cf7e",
   "metadata": {},
   "outputs": [],
   "source": [
    "from collections import defaultdict\n",
    "def groupAnagrams(strs:str):\n",
    "    result = defaultdict(list) # Automatically creates new list for empty keys\n",
    "    for c in strs: # process each string\n",
    "        count = [0] * 26    # Frequency array for each characters\n",
    "        for s in c:    #Process each characters\n",
    "            count[ord(s) - ord(\"a\")] += 1 # count the frequency of each characters, Map 0 -> 'a', 0 -> 'b'\n",
    "        result[tuple(count)].append(c)   # use frequency pattern as key and group string with same pattern\n",
    "    return list(result.values())  # return the list of value that are grouped\n",
    "                "
   ]
  },
  {
   "cell_type": "code",
   "execution_count": 67,
   "id": "0ae052f1-89f4-4574-9c58-219412188a9b",
   "metadata": {},
   "outputs": [
    {
     "data": {
      "text/plain": [
       "[['act', 'cat'], ['pots', 'tops', 'stop'], ['hat']]"
      ]
     },
     "execution_count": 67,
     "metadata": {},
     "output_type": "execute_result"
    }
   ],
   "source": [
    "groupAnagrams([\"act\",\"pots\",\"tops\",\"cat\",\"stop\",\"hat\"])"
   ]
  },
  {
   "cell_type": "markdown",
   "id": "f9b1169f-f22d-4a3c-ba3c-bb9a8aac6a4f",
   "metadata": {},
   "source": [
    "## Complexity Analysis\n",
    "\n",
    "### Time Complexity: O(n × m)\n",
    "\n",
    "- n = number of strings in input\n",
    "- m = average length of each string\n",
    "- For each string: O(m) to count characters + O(1) to create tuple key\n",
    "#### Total: O(n × m)\n",
    "\n",
    "### Space Complexity: O(n × m)\n",
    "\n",
    "- Storing all strings in the result: O(n × m)\n",
    "- Each frequency array: O(26) = O(1) per string\n",
    "- HashMap overhead: O(n) for keys\n",
    "#### Total: O(n × m)"
   ]
  },
  {
   "cell_type": "code",
   "execution_count": null,
   "id": "3d81418c-9b39-45dc-9ed8-cfef4826d38d",
   "metadata": {},
   "outputs": [],
   "source": []
  }
 ],
 "metadata": {
  "kernelspec": {
   "display_name": "Python 3 (ipykernel)",
   "language": "python",
   "name": "python3"
  },
  "language_info": {
   "codemirror_mode": {
    "name": "ipython",
    "version": 3
   },
   "file_extension": ".py",
   "mimetype": "text/x-python",
   "name": "python",
   "nbconvert_exporter": "python",
   "pygments_lexer": "ipython3",
   "version": "3.11.4"
  }
 },
 "nbformat": 4,
 "nbformat_minor": 5
}
