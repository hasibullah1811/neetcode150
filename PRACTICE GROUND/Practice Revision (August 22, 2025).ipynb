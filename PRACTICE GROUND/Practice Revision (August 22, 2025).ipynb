{
 "cells": [
  {
   "cell_type": "markdown",
   "id": "85040040-f303-4025-9e34-a764b2f8eb0b",
   "metadata": {},
   "source": [
    "# Revision\n",
    "\n",
    "## Problem: Given an integer array nums and an integer k, return the k most frequent elements within the array.\n",
    "\n",
    "The test cases are generated such that the answer is always unique.\n",
    "\n",
    "You may return the output in any order.\n",
    "\n",
    "### Example 1:\n",
    "\n",
    "Input: nums = [1,2,2,3,3,3], k = 2\n",
    "\n",
    "Output: [2,3]\n",
    "\n",
    "### Example 2:\n",
    "\n",
    "Input: nums = [7,7], k = 1\n",
    "\n",
    "Output: [7]"
   ]
  },
  {
   "cell_type": "code",
   "execution_count": 28,
   "id": "e28f8638-7ae9-43c2-8b4c-4b6112d82d56",
   "metadata": {},
   "outputs": [],
   "source": [
    "def topKFrequentElements(numbers: list(), k : int()):\n",
    "    count = {}\n",
    "    freq = [[] for i in range(len(numbers) + 1) ]\n",
    "\n",
    "    for number in numbers:\n",
    "       count[number] = count.get(number, 0) + 1\n",
    "\n",
    "    for number, cnt in count.items():\n",
    "        freq[cnt].append(number)\n",
    "    print(freq)\n",
    "\n",
    "    result = []\n",
    "\n",
    "    for i in range(len(freq) - 1, 0, -1):\n",
    "        for n in freq[i]:\n",
    "            result.append(n)\n",
    "            if len(result) == k:\n",
    "                return result\n",
    "            \n",
    "    "
   ]
  },
  {
   "cell_type": "code",
   "execution_count": 29,
   "id": "f4fd0c7e-6246-4feb-8a64-664efdc2faa7",
   "metadata": {},
   "outputs": [
    {
     "name": "stdout",
     "output_type": "stream",
     "text": [
      "[[], [1, 2, 3], [], [4], [], [], []]\n"
     ]
    },
    {
     "data": {
      "text/plain": [
       "[4, 1, 2]"
      ]
     },
     "execution_count": 29,
     "metadata": {},
     "output_type": "execute_result"
    }
   ],
   "source": [
    "topKFrequentElements([1,2,3,4,4,4], 3)"
   ]
  },
  {
   "cell_type": "code",
   "execution_count": null,
   "id": "f5a21830-6324-4b61-a5e6-de46e6881b65",
   "metadata": {},
   "outputs": [],
   "source": []
  }
 ],
 "metadata": {
  "kernelspec": {
   "display_name": "Python 3 (ipykernel)",
   "language": "python",
   "name": "python3"
  },
  "language_info": {
   "codemirror_mode": {
    "name": "ipython",
    "version": 3
   },
   "file_extension": ".py",
   "mimetype": "text/x-python",
   "name": "python",
   "nbconvert_exporter": "python",
   "pygments_lexer": "ipython3",
   "version": "3.11.4"
  }
 },
 "nbformat": 4,
 "nbformat_minor": 5
}
