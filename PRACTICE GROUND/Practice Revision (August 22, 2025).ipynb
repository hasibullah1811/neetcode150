{
 "cells": [
  {
   "cell_type": "markdown",
   "id": "85040040-f303-4025-9e34-a764b2f8eb0b",
   "metadata": {},
   "source": [
    "# Revision\n",
    "\n",
    "## Problem: Given an integer array nums and an integer k, return the k most frequent elements within the array.\n",
    "\n",
    "The test cases are generated such that the answer is always unique.\n",
    "\n",
    "You may return the output in any order.\n",
    "\n",
    "Input: [1,2,3,1] → Output: true (1 appears twice)\n",
    "Input: [1,2,3,4] → Output: false (all elements are unique)\n",
    "Input: [1,1,1,3,3,4,3,2,4,2] → Output: true (multiple duplicates)\n",
    "\n",
    "## Key Insights\n",
    "\n",
    "- We need to track elements we've already seen\n",
    "- As soon as we find a duplicate, we can return true immediately\n",
    "- If we process all elements without finding duplicates, return false\n",
    "- Using a hash set provides O(1) average lookup time"
   ]
  },
  {
   "cell_type": "code",
   "execution_count": 40,
   "id": "e28f8638-7ae9-43c2-8b4c-4b6112d82d56",
   "metadata": {},
   "outputs": [],
   "source": [
    "def topKFrequentElements(numbers: list(), k : int()):\n",
    "    from collections import Counter # For the fastest counting option\n",
    "    count = Counter(numbers) # Counting the numbers\n",
    "    freq = [[] for i in range(len(numbers) + 1) ] # Creating a frequency list of lists\n",
    "\n",
    "    for number, cnt in count.items():\n",
    "        freq[cnt].append(number) #saving the numbers in a bucket of list\n",
    "\n",
    "    result = [0] * k #Pre defining the length\n",
    "    idx = 0\n",
    "\n",
    "    for i in range(len(freq) - 1, 0, -1): # Start the list from the end\n",
    "        if freq[i]: #Checking the if the freq element is not empty\n",
    "            for n in freq[i]:\n",
    "                result[idx] = n\n",
    "                idx += 1\n",
    "                if idx == k:\n",
    "                    return result\n",
    "            \n",
    "    "
   ]
  },
  {
   "cell_type": "code",
   "execution_count": 41,
   "id": "f4fd0c7e-6246-4feb-8a64-664efdc2faa7",
   "metadata": {},
   "outputs": [
    {
     "name": "stdout",
     "output_type": "stream",
     "text": [
      "[[], [1, 2, 3], [], [4], [], [], []]\n"
     ]
    },
    {
     "data": {
      "text/plain": [
       "[4, 1, 2]"
      ]
     },
     "execution_count": 41,
     "metadata": {},
     "output_type": "execute_result"
    }
   ],
   "source": [
    "topKFrequentElements([1,2,3,4,4,4], 3)"
   ]
  },
  {
   "cell_type": "markdown",
   "id": "0129b5e5-2d7c-4324-8d90-d93b4330beae",
   "metadata": {},
   "source": [
    "# Problem: Encode and Decode Strings\n",
    "Design an algorithm to encode a list of strings to a single string. The encoded string is then decoded back to the original list of strings.\n",
    "\n",
    "Please implement encode and decode\n",
    "\n",
    "Example 1:\n",
    "\n",
    "Input: [\"neet\",\"code\",\"love\",\"you\"]\n",
    "\n",
    "Output:[\"neet\",\"code\",\"love\",\"you\"]\n",
    "Example 2:\n",
    "\n",
    "Input: [\"we\",\"say\",\":\",\"yes\"]\n",
    "\n",
    "Output: [\"we\",\"say\",\":\",\"yes\"]"
   ]
  },
  {
   "cell_type": "code",
   "execution_count": 53,
   "id": "0da514d4-ce29-45ed-8597-0c320f818c79",
   "metadata": {},
   "outputs": [],
   "source": [
    "def encode(strings: list()):\n",
    "    newStr = \"\"\n",
    "    for s in strings:\n",
    "        newStr += str(len(s))  + \"#\" + s\n",
    "    return newStr\n",
    "        "
   ]
  },
  {
   "cell_type": "code",
   "execution_count": 54,
   "id": "48d8dc67-2011-437c-b547-3cd4331b24a0",
   "metadata": {},
   "outputs": [
    {
     "data": {
      "text/plain": [
       "'4#neet4#code4#love3#you'"
      ]
     },
     "execution_count": 54,
     "metadata": {},
     "output_type": "execute_result"
    }
   ],
   "source": [
    "encode([\"neet\",\"code\",\"love\",\"you\"])"
   ]
  },
  {
   "cell_type": "code",
   "execution_count": 69,
   "id": "6470863b-cf11-4e79-b0f2-c70fe66f0bd3",
   "metadata": {},
   "outputs": [],
   "source": [
    "def decode(strings: str()):\n",
    "    res = []\n",
    "    idx = 0 # To track the cursor position of the string\n",
    "\n",
    "    while idx < len(strings):\n",
    "        j = idx # To track the '#' char\n",
    "        while strings[j] != \"#\":\n",
    "            j += 1\n",
    "        length = int(strings[idx:j])\n",
    "        idx = j + 1\n",
    "        j = idx + length\n",
    "        res.append(strings[idx:j])\n",
    "        idx = j\n",
    "    return res\n",
    "        \n",
    "    "
   ]
  },
  {
   "cell_type": "code",
   "execution_count": 72,
   "id": "f98d8bf0-e579-4f25-aa7a-3e2afe5d9273",
   "metadata": {},
   "outputs": [
    {
     "data": {
      "text/plain": [
       "['neet', 'code']"
      ]
     },
     "execution_count": 72,
     "metadata": {},
     "output_type": "execute_result"
    }
   ],
   "source": [
    "decode('4#neet4#code')"
   ]
  },
  {
   "cell_type": "markdown",
   "id": "f8b99cbd-7493-491d-bc11-d593d7edaea6",
   "metadata": {},
   "source": [
    "# Given an integer array nums, return an array output where output[i] is the product of all the elements of nums except nums[i].\n",
    "\n",
    "Each product is guaranteed to fit in a 32-bit integer.\n",
    "\n",
    "Follow-up: Could you solve it inO (n) time without using the division operation?\n"
   ]
  },
  {
   "cell_type": "code",
   "execution_count": 75,
   "id": "1676a16b-762e-47d1-b838-16f55ef4a4ff",
   "metadata": {},
   "outputs": [],
   "source": [
    "def productOfArr(nums:list()):\n",
    "\n",
    "    res = [1] * len(nums)\n",
    "\n",
    "    prefix = 1\n",
    "    for i in range(len(nums)):\n",
    "        res[i] = prefix\n",
    "        prefix *= nums[i]\n",
    "    postfix = 1\n",
    "    for i in range(len(nums) - 1, -1, -1):\n",
    "        res[i] *= postfix\n",
    "        postfix *= nums[i]\n",
    "    return res"
   ]
  },
  {
   "cell_type": "code",
   "execution_count": 76,
   "id": "e4870510-2092-43f2-b18e-181cfa95cae1",
   "metadata": {},
   "outputs": [
    {
     "data": {
      "text/plain": [
       "[24, 12, 8, 6]"
      ]
     },
     "execution_count": 76,
     "metadata": {},
     "output_type": "execute_result"
    }
   ],
   "source": [
    "productOfArr([1,2,3,4])"
   ]
  },
  {
   "cell_type": "markdown",
   "id": "b40cd4c1-a5d3-444f-a825-c23fe6c8da4f",
   "metadata": {},
   "source": [
    "## Longest Consecutive Sequence\n",
    "Given an array of integers nums, return the length of the longest consecutive sequence of elements that can be formed.\n",
    "\n",
    "A consecutive sequence is a sequence of elements in which each element is exactly 1 greater than the previous element. The elements do not have to be consecutive in the original array.\n",
    "\n",
    "You must write an algorithm that runs in O(n) time.\n",
    "\n",
    "Example 1:\n",
    "Input: nums = [2,20,4,10,3,4,5]\n",
    "\n",
    "Output: 4"
   ]
  },
  {
   "cell_type": "code",
   "execution_count": 79,
   "id": "abc1bff3-cb81-49dc-8ffc-d9d2679230bb",
   "metadata": {},
   "outputs": [],
   "source": [
    "def longestConsecutiveSeq(nums:list()):\n",
    "    numSet = set(nums)\n",
    "    longest = 0\n",
    "    for n in numSet:\n",
    "        if (n-1) not in numSet:\n",
    "            length = 0\n",
    "            while (n + length) in numSet:\n",
    "                length += 1\n",
    "            longest = max(length, longest)\n",
    "    return longest\n",
    "            \n",
    "                \n",
    "        "
   ]
  },
  {
   "cell_type": "code",
   "execution_count": 80,
   "id": "734df803-47a2-4d05-b11d-6f168b1eac8e",
   "metadata": {},
   "outputs": [
    {
     "data": {
      "text/plain": [
       "4"
      ]
     },
     "execution_count": 80,
     "metadata": {},
     "output_type": "execute_result"
    }
   ],
   "source": [
    "longestConsecutiveSeq([2,20,4,10,3,4,5])"
   ]
  },
  {
   "cell_type": "code",
   "execution_count": null,
   "id": "faa5c3df-aabc-4d21-a2af-9fcaadebd7f3",
   "metadata": {},
   "outputs": [],
   "source": []
  }
 ],
 "metadata": {
  "kernelspec": {
   "display_name": "Python 3 (ipykernel)",
   "language": "python",
   "name": "python3"
  },
  "language_info": {
   "codemirror_mode": {
    "name": "ipython",
    "version": 3
   },
   "file_extension": ".py",
   "mimetype": "text/x-python",
   "name": "python",
   "nbconvert_exporter": "python",
   "pygments_lexer": "ipython3",
   "version": "3.11.4"
  }
 },
 "nbformat": 4,
 "nbformat_minor": 5
}
