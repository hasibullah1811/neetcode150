{
 "cells": [
  {
   "cell_type": "markdown",
   "id": "fd167453-65fa-4c3e-a335-981274c2b549",
   "metadata": {},
   "source": [
    "# Given an integer array nums, return an array output where output[i] is the product of all the elements of nums except nums[i].\n",
    "\n",
    "Each product is guaranteed to fit in a 32-bit integer.\n",
    "\n",
    "Follow-up: Could you solve it inO (n) time without using the division operation?\n"
   ]
  },
  {
   "cell_type": "code",
   "execution_count": 23,
   "id": "632fe624-ec16-4a56-b080-788e83e5ab7f",
   "metadata": {},
   "outputs": [],
   "source": [
    "def productOfArrayExceptSelf(nums):\n",
    "    ''' \n",
    "    Time Complexity BigO(n)\n",
    "    Memory Complexity BigO(n)\n",
    "    \n",
    "    '''\n",
    "    result = [1] * len(nums)\n",
    "\n",
    "    prefix = 1\n",
    "    for i in range(len(nums)):\n",
    "        result[i] = prefix\n",
    "        prefix *= nums[i]\n",
    "    postfix = 1\n",
    "    for i in range(len(nums) -1, -1, -1):\n",
    "        result[i] *= postfix\n",
    "        postfix *= nums[i]\n",
    "    print(result)\n",
    "        \n",
    "    "
   ]
  },
  {
   "cell_type": "code",
   "execution_count": 24,
   "id": "3cc21f4c-8975-446f-b3e4-4d7bf50af2bb",
   "metadata": {},
   "outputs": [
    {
     "name": "stdout",
     "output_type": "stream",
     "text": [
      "[24, 12, 8, 6]\n"
     ]
    }
   ],
   "source": [
    "productOfArrayExceptSelf([1,2,3,4])"
   ]
  },
  {
   "cell_type": "code",
   "execution_count": null,
   "id": "c8ec3346-38dd-4adb-ba00-d011804c1b79",
   "metadata": {},
   "outputs": [],
   "source": []
  }
 ],
 "metadata": {
  "kernelspec": {
   "display_name": "Python 3 (ipykernel)",
   "language": "python",
   "name": "python3"
  },
  "language_info": {
   "codemirror_mode": {
    "name": "ipython",
    "version": 3
   },
   "file_extension": ".py",
   "mimetype": "text/x-python",
   "name": "python",
   "nbconvert_exporter": "python",
   "pygments_lexer": "ipython3",
   "version": "3.11.4"
  }
 },
 "nbformat": 4,
 "nbformat_minor": 5
}
